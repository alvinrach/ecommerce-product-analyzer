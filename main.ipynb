{
 "cells": [
  {
   "cell_type": "code",
   "execution_count": 83,
   "id": "b9c02e61-8a81-47f2-8686-79e40e55131a",
   "metadata": {},
   "outputs": [],
   "source": [
    "import pandas as pd\n",
    "from scraper import Scraper\n",
    "import os"
   ]
  },
  {
   "cell_type": "markdown",
   "id": "9eb7f9ae-7c42-4371-a1e8-8d01811999c5",
   "metadata": {},
   "source": [
    "# 1 Scraping "
   ]
  },
  {
   "cell_type": "code",
   "execution_count": 84,
   "id": "39463363-878c-45ed-bc26-69bcae277d58",
   "metadata": {},
   "outputs": [],
   "source": [
    "csv_name = '20_tokopedia_products.csv'\n",
    "\n",
    "if csv_name in os.listdir():\n",
    "    data = pd.read_csv(csv_name)\n",
    "else:\n",
    "    a = Scraper()\n",
    "    data = a.get_data()\n",
    "    a.driver.quit()\n",
    "    \n",
    "    data = pd.DataFrame(data)\n",
    "    data.to_csv(csv_name, index=False)\n",
    "pure_data = data.copy()"
   ]
  },
  {
   "cell_type": "code",
   "execution_count": 85,
   "id": "d24ca51b-d093-4f07-905a-facddcd173e9",
   "metadata": {},
   "outputs": [
    {
     "name": "stdout",
     "output_type": "stream",
     "text": [
      "FLUX SET - Wedding Gift | Birthday Hampers | Kado | Hadiah FLUX SET :\n",
      "- RTR : Classic Mini Air Diffuser / Humidifier 220ml Capacity (Include USB Cable for Air Humidifier & cotton sticks)\n",
      "- RTR Aromatherapy Oil : 2 variants @10ml\n",
      "- RTR : Bear Acrylic Night Lamp\n",
      "- Corrugated white box 22x22cm\n",
      "* FREE GREETING CARD\n"
     ]
    }
   ],
   "source": [
    "n = 4\n",
    "print(data.Product[n], data.Description[n])"
   ]
  },
  {
   "cell_type": "code",
   "execution_count": 86,
   "id": "9e77e588-6dd9-47a2-a3b6-78258beedac0",
   "metadata": {},
   "outputs": [
    {
     "data": {
      "text/plain": [
       "20"
      ]
     },
     "execution_count": 86,
     "metadata": {},
     "output_type": "execute_result"
    }
   ],
   "source": [
    "len(data)"
   ]
  },
  {
   "cell_type": "code",
   "execution_count": 87,
   "id": "fa1c0c10-8975-4394-bec7-20590ccde36d",
   "metadata": {},
   "outputs": [],
   "source": [
    "data['id'] = data.index"
   ]
  },
  {
   "cell_type": "markdown",
   "id": "e5f0a0d7-213d-482b-a644-c56cf74f4b42",
   "metadata": {},
   "source": [
    "# 2 Similarity"
   ]
  },
  {
   "cell_type": "code",
   "execution_count": 88,
   "id": "322eaa47-6af7-4448-a02f-e0c9bc47d6dc",
   "metadata": {},
   "outputs": [
    {
     "name": "stderr",
     "output_type": "stream",
     "text": [
      "[nltk_data] Downloading package stopwords to\n",
      "[nltk_data]     /home/codespace/nltk_data...\n",
      "[nltk_data]   Package stopwords is already up-to-date!\n"
     ]
    }
   ],
   "source": [
    "import contractions\n",
    "import re\n",
    "import nltk\n",
    "nltk.download('stopwords')\n",
    "\n",
    "import numpy as np\n",
    "from sklearn.metrics.pairwise import cosine_similarity\n",
    "from sklearn.feature_extraction.text import TfidfVectorizer\n",
    "from sklearn.preprocessing import Normalizer"
   ]
  },
  {
   "cell_type": "code",
   "execution_count": 89,
   "id": "d5097e48-de04-40f3-872c-8ee9e27cf2d9",
   "metadata": {},
   "outputs": [],
   "source": [
    "# Cleaning the texts\n",
    "def txtprocess(txt):\n",
    "    # Lower the texts\n",
    "    txt = str(txt).lower()\n",
    "    # Remove contractions\n",
    "    txt = contractions.fix(txt)\n",
    "    \n",
    "    # Just pick the alphabet\n",
    "    txt = re.sub(r'[^a-zA-Z]', ' ', txt)\n",
    "    # Fix unnecessary space\n",
    "    txt = re.sub(' +', ' ', txt)\n",
    "    \n",
    "    txt = ' '.join(txt.split())\n",
    "    \n",
    "    return txt\n",
    "\n",
    "data.Product = data.Product.map(txtprocess)\n",
    "data.Description = data.Description.map(txtprocess)"
   ]
  },
  {
   "cell_type": "code",
   "execution_count": 90,
   "id": "8bc5579a-1084-4061-b9db-9c98d8c59c88",
   "metadata": {},
   "outputs": [],
   "source": [
    "# Cleaning stopwords\n",
    "stop_words = set(nltk.corpus.stopwords.words('indonesian'))\n",
    "stop_words.add('gift')\n",
    "stop_words.add('hampers')\n",
    "stop_words.add('hadiah')\n",
    "stop_words.add('kado')\n",
    "stop_words.add('x')\n",
    "\n",
    "def remove_stopwords(txt):\n",
    "    no_stopword_txt = [w for w in txt.split() if not w in stop_words]\n",
    "    return ' '.join(no_stopword_txt)\n",
    "\n",
    "data.Product = data.Product.map(remove_stopwords)\n",
    "data.Description = data.Description.map(remove_stopwords)"
   ]
  },
  {
   "cell_type": "code",
   "execution_count": 91,
   "id": "b498532b-bebc-4b57-899c-fa706845bdeb",
   "metadata": {},
   "outputs": [],
   "source": [
    "data['char_count'] = data['Description'].map(len)"
   ]
  },
  {
   "cell_type": "code",
   "execution_count": 92,
   "id": "82caa07d-f4d2-45db-a523-65292e95b27f",
   "metadata": {},
   "outputs": [],
   "source": [
    "data.Price = data.Price.str[2:].str.replace('.', '').astype(int)"
   ]
  },
  {
   "cell_type": "code",
   "execution_count": 93,
   "id": "46a5792c-b0c2-4aa2-b830-83a30550a9e4",
   "metadata": {},
   "outputs": [
    {
     "name": "stdout",
     "output_type": "stream",
     "text": [
      "Product ID 0\n",
      "Top 3 similar products to 'souvenir pernikahan wedding':\n",
      "14               souvenir pernikahan wedding\n",
      "16    souvenir mug couple pernikahan wedding\n",
      "19                 wedding pernikahan handuk\n",
      "Name: Product, dtype: object\n",
      "\n",
      "\n",
      "Product ID 1\n",
      "Top 3 similar products to 'mug couple wedding':\n",
      "16    souvenir mug couple pernikahan wedding\n",
      "14               souvenir pernikahan wedding\n",
      "0                souvenir pernikahan wedding\n",
      "Name: Product, dtype: object\n",
      "\n",
      "\n",
      "Product ID 2\n",
      "Top 3 similar products to 'zwitsal baby set box paket perlengkapan bayi':\n",
      "8                  newborn set baby bayi bayi\n",
      "3              bayi lahiran bayi newborn baby\n",
      "15    kelahiran bayi baby newborn set newborn\n",
      "Name: Product, dtype: object\n",
      "\n",
      "\n",
      "Product ID 3\n",
      "Top 3 similar products to 'bayi lahiran bayi newborn baby':\n",
      "8                            newborn set baby bayi bayi\n",
      "15              kelahiran bayi baby newborn set newborn\n",
      "6     bayi baby girl boy lahiran perempuan laki laki...\n",
      "Name: Product, dtype: object\n",
      "\n",
      "\n",
      "Product ID 4\n",
      "Top 3 similar products to 'flux set wedding birthday':\n",
      "0     souvenir pernikahan wedding\n",
      "14    souvenir pernikahan wedding\n",
      "1              mug couple wedding\n",
      "Name: Product, dtype: object\n",
      "\n",
      "\n",
      "Product ID 5\n",
      "Top 3 similar products to 'box ulang cewek ultah murah graduation':\n",
      "17            cewe box ulang anniv sempro wisuda\n",
      "18                       kotak box souvenir tali\n",
      "7     baby boy set parcel bayi laki laki premium\n",
      "Name: Product, dtype: object\n",
      "\n",
      "\n",
      "Product ID 6\n",
      "Top 3 similar products to 'bayi baby girl boy lahiran perempuan laki laki set':\n",
      "7    baby boy set parcel bayi laki laki premium\n",
      "3                bayi lahiran bayi newborn baby\n",
      "8                    newborn set baby bayi bayi\n",
      "Name: Product, dtype: object\n",
      "\n",
      "\n",
      "Product ID 7\n",
      "Top 3 similar products to 'baby boy set parcel bayi laki laki premium':\n",
      "6    bayi baby girl boy lahiran perempuan laki laki...\n",
      "3                       bayi lahiran bayi newborn baby\n",
      "8                           newborn set baby bayi bayi\n",
      "Name: Product, dtype: object\n",
      "\n",
      "\n",
      "Product ID 8\n",
      "Top 3 similar products to 'newborn set baby bayi bayi':\n",
      "3                   bayi lahiran bayi newborn baby\n",
      "15         kelahiran bayi baby newborn set newborn\n",
      "2     zwitsal baby set box paket perlengkapan bayi\n",
      "Name: Product, dtype: object\n",
      "\n",
      "\n",
      "Product ID 9\n",
      "Top 3 similar products to 'set premium reed diffuser and scented candle lilin':\n",
      "7            baby boy set parcel bayi laki laki premium\n",
      "4                             flux set wedding birthday\n",
      "10    souvenir mangkok set keramik handpainted japanese\n",
      "Name: Product, dtype: object\n",
      "\n",
      "\n",
      "Product ID 10\n",
      "Top 3 similar products to 'souvenir mangkok set keramik handpainted japanese':\n",
      "11    souvenir mangkok set mangkok keramik handpaint...\n",
      "0                           souvenir pernikahan wedding\n",
      "14                          souvenir pernikahan wedding\n",
      "Name: Product, dtype: object\n",
      "\n",
      "\n",
      "Product ID 11\n",
      "Top 3 similar products to 'souvenir mangkok set mangkok keramik handpainted japanese':\n",
      "10    souvenir mangkok set keramik handpainted japanese\n",
      "0                           souvenir pernikahan wedding\n",
      "14                          souvenir pernikahan wedding\n",
      "Name: Product, dtype: object\n",
      "\n",
      "\n",
      "Product ID 12\n",
      "Top 3 similar products to 'mukena tazbiya special exclusive in':\n",
      "3     bayi lahiran bayi newborn baby\n",
      "0        souvenir pernikahan wedding\n",
      "14       souvenir pernikahan wedding\n",
      "Name: Product, dtype: object\n",
      "\n",
      "\n",
      "Product ID 13\n",
      "Top 3 similar products to 'premium goodie bag paper bag motif tas':\n",
      "7           baby boy set parcel bayi laki laki premium\n",
      "9    set premium reed diffuser and scented candle l...\n",
      "6    bayi baby girl boy lahiran perempuan laki laki...\n",
      "Name: Product, dtype: object\n",
      "\n",
      "\n",
      "Product ID 14\n",
      "Top 3 similar products to 'souvenir pernikahan wedding':\n",
      "0                souvenir pernikahan wedding\n",
      "16    souvenir mug couple pernikahan wedding\n",
      "1                         mug couple wedding\n",
      "Name: Product, dtype: object\n",
      "\n",
      "\n",
      "Product ID 15\n",
      "Top 3 similar products to 'kelahiran bayi baby newborn set newborn':\n",
      "8                           newborn set baby bayi bayi\n",
      "3                       bayi lahiran bayi newborn baby\n",
      "6    bayi baby girl boy lahiran perempuan laki laki...\n",
      "Name: Product, dtype: object\n",
      "\n",
      "\n",
      "Product ID 16\n",
      "Top 3 similar products to 'souvenir mug couple pernikahan wedding':\n",
      "1              mug couple wedding\n",
      "14    souvenir pernikahan wedding\n",
      "0     souvenir pernikahan wedding\n",
      "Name: Product, dtype: object\n",
      "\n",
      "\n",
      "Product ID 17\n",
      "Top 3 similar products to 'cewe box ulang anniv sempro wisuda':\n",
      "5           box ulang cewek ultah murah graduation\n",
      "18                         kotak box souvenir tali\n",
      "2     zwitsal baby set box paket perlengkapan bayi\n",
      "Name: Product, dtype: object\n",
      "\n",
      "\n",
      "Product ID 18\n",
      "Top 3 similar products to 'kotak box souvenir tali':\n",
      "0                souvenir pernikahan wedding\n",
      "14               souvenir pernikahan wedding\n",
      "16    souvenir mug couple pernikahan wedding\n",
      "Name: Product, dtype: object\n",
      "\n",
      "\n",
      "Product ID 19\n",
      "Top 3 similar products to 'wedding pernikahan handuk':\n",
      "0                souvenir pernikahan wedding\n",
      "14               souvenir pernikahan wedding\n",
      "16    souvenir mug couple pernikahan wedding\n",
      "Name: Product, dtype: object\n",
      "\n",
      "\n"
     ]
    }
   ],
   "source": [
    "# For product and description\n",
    "tfidf_product = TfidfVectorizer()\n",
    "product_vectors = tfidf_product.fit_transform(data.Product).toarray()\n",
    "\n",
    "tfidf_description = TfidfVectorizer()\n",
    "description_vectors = tfidf_description.fit_transform(data.Description).toarray()\n",
    "\n",
    "product_similarity_matrix = cosine_similarity(product_vectors)\n",
    "description_similarity_matrix = cosine_similarity(description_vectors)\n",
    "\n",
    "# For prices and char count\n",
    "normalized_prices = data.Price.values.reshape(1, -1)\n",
    "normalized_char_count = data.char_count.values.reshape(1, -1)\n",
    "\n",
    "scaler = Normalizer() \n",
    "normalized_prices = scaler.fit_transform(normalized_prices)\n",
    "normalized_char_count = scaler.fit_transform(normalized_char_count)\n",
    "\n",
    "normalized_prices = cosine_similarity(normalized_prices)\n",
    "normalized_char_count = cosine_similarity(normalized_char_count)\n",
    "\n",
    "# Weight\n",
    "weight_product = 0.4\n",
    "weight_description = 0.3\n",
    "weight_prices = 0.2\n",
    "weight_char_count = 0.1\n",
    "\n",
    "# Combined Similarity\n",
    "combined_similarity_matrix = (weight_product * product_similarity_matrix) + (weight_description * description_similarity_matrix) + (weight_prices * normalized_prices) + (weight_char_count * normalized_char_count)\n",
    "\n",
    "j = 0\n",
    "for i in range(len(combined_similarity_matrix)):\n",
    "    top_3_similar_indices = combined_similarity_matrix[i].argsort()[::-1][1:4]\n",
    "    top_3_similar_products = data.iloc[top_3_similar_indices]['Product']\n",
    "#     if j!=19 and j!=3 and j!=4 and j!=1 and j!=12 and j!=13:\n",
    "#         j+=1\n",
    "#         continue\n",
    "    print('Product ID', j)\n",
    "    j+=1\n",
    "    print(f\"Top 3 similar products to '{data.iloc[i]['Product']}':\")\n",
    "    print(top_3_similar_products)\n",
    "    print(\"\\n\")"
   ]
  },
  {
   "cell_type": "markdown",
   "id": "e50654e0-f6b1-4d5c-889c-dd2b87b36e64",
   "metadata": {},
   "source": [
    "# 3 Product Description Enhancement"
   ]
  },
  {
   "cell_type": "code",
   "execution_count": null,
   "id": "f533bf62",
   "metadata": {},
   "outputs": [],
   "source": [
    "import openai"
   ]
  },
  {
   "cell_type": "code",
   "execution_count": 44,
   "id": "e2818b3f-62e6-4b53-a343-83429ed219f4",
   "metadata": {},
   "outputs": [],
   "source": [
    "key = \"YOUR_API_KEY\""
   ]
  },
  {
   "cell_type": "code",
   "execution_count": 132,
   "id": "be73736a",
   "metadata": {},
   "outputs": [],
   "source": [
    "# prompt engineering trial and error\n",
    "# message = 'perbaiki deskripsi produk berikut sehingga menarik bagi pembeli tanpa menambah kalimat \\n\\n'\n",
    "# message = 'perbaiki deskripsi produk berikut sehingga menarik bagi pembeli dan mempunyai informasi yang padat \\n\\n'\n",
    "message = 'perbaiki deskripsi produk berikut sehingga menarik bagi pembeli namun mempunyai informasi yang padat \\n\\n'\n",
    "message = message+pure_data.Description[10]"
   ]
  },
  {
   "cell_type": "code",
   "execution_count": 133,
   "id": "0eea423e",
   "metadata": {},
   "outputs": [
    {
     "name": "stdout",
     "output_type": "stream",
     "text": [
      "perbaiki deskripsi produk berikut sehingga menarik bagi pembeli namun mempunyai informasi yang padat \n",
      "\n",
      "Mangkuk Jepang Set dengan sumpit bambu / Japanese Bowl Set \n",
      "📢📢Perlu Diperhatikan!! \n",
      "- Semua Varian sudah termasuk gift box dan sumpit\n",
      "- untuk set 2 mangkok, motif random diambil dr varian set 4  jenis produk yg dipilih ( tidak bisa pilih motif )\n",
      "- untuk sakura mix set 2, warna random tidak bisa pilih\n",
      "➡️ Gratis Kartu Ucapan dalam Bentuk Sticker print, mohon ucapan ditulis langsung di note / catatan produk.\n",
      "jika tidak ditulis, maka akan dikirim tanpa sticker ucapan \n",
      "▶️▶️untuk mangkok set 6, link ada di produk sebelah\n",
      "Semua mangkuk keramik adalah handmade dan hand painted sehingga titik kecil, titik hitam dll adalah hal yg normal terjadi ketika proses produksi.  Hal ini tidak akan mempengaruhi kualitas mangkok\n",
      "mangkuk juga sudah didesign anti slip, bagian paling bawah sengaja tidak diglaze\n",
      "Glaze Artistik Ceramic terbuat dari tanah liat langsung yang harus di tempa dan dipanaskan disuhu 1300 derajat, keramik lebih kokoh, licin dan gambar juga anti luntur\n",
      "sangat cocok untuk membuat sesi makan anda menjadi menyenangkan, cocok juga dijadikan hadiah, kado dan souvernir \n",
      "cara merawat mangkok keramik :\n",
      "jika terdapat goresan maka gosok dengan odol gigi\n",
      "jika terdapat noda, maka cuci dengan sabun cuci piring\n",
      "untuk pembelian banyak set mohon chat terlebih dahulu agar ongkos kirim tidak terlalu mahal\n",
      "VARIAN 1 SET :\n",
      "-isi 2 pcs \n",
      "-isi 4 pcs\n",
      "-isi 6 pcs ( ada di produk sebelah toko ini )\n",
      "ukuran: 11.5 x 6 cm\n",
      "bahan keramik\n",
      "GIFT BOX SESUAI GAMBAR \n",
      "PACKING AMAN\n",
      "kami berusaha menjaga kualitas produk barang kami, Semua Produk sudah melewati QC yg ketat dan juga packing kami sudah free dengan bubble wrap TEBAL dan dilakban fragile\n",
      "MOHON LAKUKAN VIDEO UNBOXING\n",
      "menerima grosir, reseller dan dropship\n",
      "#mangkok #mangkokayam #mangkoksaji #mangkoksoto #mangkokmakan #bestseller #mangkuk #mangkokjepang #mangkoksup #mangkoknasi #mangkokkeramik #mangkokkukuruyuk  #mangkokporselen #mangkokporcelain #giftset #kadoset #piringkeramik #piringporselen\n"
     ]
    }
   ],
   "source": [
    "print(message)"
   ]
  },
  {
   "cell_type": "code",
   "execution_count": 134,
   "id": "bdd24fc5",
   "metadata": {},
   "outputs": [],
   "source": [
    "openai.api_key = key\n",
    "\n",
    "response = openai.ChatCompletion.create(\n",
    "  model=\"gpt-3.5-turbo\",\n",
    "  messages=[{'role':'user', 'content':f'{message}'}],\n",
    "  temperature=0,\n",
    "  max_tokens=1024\n",
    ")"
   ]
  },
  {
   "cell_type": "code",
   "execution_count": 135,
   "id": "429fc9c3",
   "metadata": {},
   "outputs": [
    {
     "name": "stdout",
     "output_type": "stream",
     "text": [
      "Mangkuk Jepang Set dengan Sumpit Bambu / Japanese Bowl Set\n",
      "\n",
      "🎁🎁 Perhatian! Setiap varian sudah termasuk kotak hadiah dan sumpit.\n",
      "- Untuk set 2 mangkuk, motif akan dipilih secara acak dari varian set 4 jenis produk yang dipilih (tidak dapat memilih motif).\n",
      "- Untuk Sakura Mix Set 2, warna akan dipilih secara acak dan tidak dapat dipilih.\n",
      "\n",
      "➡️ Dapatkan Kartu Ucapan Gratis dalam Bentuk Stiker cetak, harap tuliskan ucapan langsung di catatan produk.\n",
      "Jika tidak ditulis, maka akan dikirim tanpa stiker ucapan.\n",
      "\n",
      "▶️▶️ Untuk mangkuk set 6, silakan lihat link di produk sebelah.\n",
      "\n",
      "Semua mangkuk keramik ini dibuat secara handmade dan dicat tangan sehingga adanya titik kecil, titik hitam, dll adalah hal yang normal dalam proses produksi. Hal ini tidak akan mempengaruhi kualitas mangkuk.\n",
      "Mangkuk ini juga didesain anti slip, dengan bagian bawah yang sengaja tidak dilapisi glaze.\n",
      "\n",
      "Keramik Glaze Artistik terbuat dari tanah liat langsung yang harus ditempa dan dipanaskan pada suhu 1300 derajat, sehingga mangkuk ini lebih kokoh, licin, dan gambar juga tidak akan luntur.\n",
      "\n",
      "Mangkuk ini sangat cocok untuk membuat sesi makan Anda menjadi lebih menyenangkan, dan juga cocok sebagai hadiah, kado, dan souvenir.\n",
      "\n",
      "Cara merawat mangkuk keramik ini:\n",
      "- Jika terdapat goresan, gosoklah dengan odol gigi.\n",
      "- Jika terdapat noda, cuci dengan sabun cuci piring.\n",
      "\n",
      "Untuk pembelian dalam jumlah banyak, mohon hubungi kami terlebih dahulu agar biaya pengiriman tidak terlalu mahal.\n",
      "\n",
      "VARIAN 1 SET:\n",
      "- Isi 2 pcs\n",
      "- Isi 4 pcs\n",
      "- Isi 6 pcs (tersedia di produk sebelah toko ini)\n",
      "\n",
      "Ukuran: 11.5 x 6 cm\n",
      "Bahan: Keramik\n",
      "Kotak Hadiah sesuai dengan gambar\n",
      "Packing aman\n",
      "\n",
      "Kami berusaha menjaga kualitas produk kami dengan melakukan QC yang ketat, dan packing kami dilakukan dengan bubble wrap tebal dan dilakban fragile secara gratis.\n",
      "\n",
      "Mohon lakukan video unboxing setelah menerima produk.\n",
      "\n",
      "Kami menerima grosir, reseller, dan dropship.\n",
      "\n",
      "#mangkok #mangkokayam #mangkoksaji #mangkoksoto #mangkokmakan #bestseller #mangkuk #mangkokjepang #mangkoksup #mangkoknasi #mangkokkeramik #mangkokkukuruyuk #mangkokporselen #mangkokporcelain #giftset #kadoset #piringkeramik #piringporselen\n"
     ]
    }
   ],
   "source": [
    "print(response['choices'][0]['message']['content'])"
   ]
  }
 ],
 "metadata": {
  "kernelspec": {
   "display_name": ".env",
   "language": "python",
   "name": "python3"
  },
  "language_info": {
   "codemirror_mode": {
    "name": "ipython",
    "version": 3
   },
   "file_extension": ".py",
   "mimetype": "text/x-python",
   "name": "python",
   "nbconvert_exporter": "python",
   "pygments_lexer": "ipython3",
   "version": "3.10.8"
  }
 },
 "nbformat": 4,
 "nbformat_minor": 5
}
